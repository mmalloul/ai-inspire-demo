{
 "cells": [
  {
   "cell_type": "markdown",
   "metadata": {},
   "source": [
    "# Advanced Langchain Conversational AI Demo\n",
    "\n",
    "In this notebook, we will explore advanced functionalities of the Langchain models, including enhanced conversational memory, custom prompts for various tasks, and interactive user inputs.\n"
   ]
  },
  {
   "cell_type": "markdown",
   "metadata": {},
   "source": [
    "## Import Libraries and Load Environment Variables\n",
    "\n",
    "We begin by importing the necessary libraries and loading environment variables. This includes setting up API keys for OpenAI from a `.env` file.\n"
   ]
  },
  {
   "cell_type": "code",
   "execution_count": 1,
   "metadata": {},
   "outputs": [],
   "source": [
    "from langchain_aws import ChatBedrock\n",
    "from langchain_openai import ChatOpenAI\n",
    "from langchain_community.chat_models import ChatOllama\n",
    "from langchain_core.messages import HumanMessage\n",
    "import requests\n",
    "from IPython.display import display, Markdown\n",
    "from ipywidgets import interact, Textarea, Button, VBox, Output\n",
    "from dotenv import load_dotenv\n",
    "import os\n",
    "\n",
    "load_dotenv()\n",
    "openai_api_key = os.environ.get('OPENAI_API_KEY')\n"
   ]
  },
  {
   "cell_type": "markdown",
   "metadata": {},
   "source": [
    "## Initialize Chat Models\n",
    "\n",
    "Here, we initialize the chat models from Bedrock, OpenAI, and Ollama. Each model is set up with the appropriate API keys and configurations.\n"
   ]
  },
  {
   "cell_type": "code",
   "execution_count": 2,
   "metadata": {},
   "outputs": [],
   "source": [
    "# Initialize the Bedrock chat model\n",
    "chat_bedrock = ChatBedrock(\n",
    "    model_id=\"meta.llama3-70b-instruct-v1:0\",\n",
    ")\n",
    "\n",
    "# Initialize the OpenAI chat model\n",
    "chat_openai = ChatOpenAI(api_key=openai_api_key)\n",
    "\n",
    "# Initialize the Ollama chat model\n",
    "chat_ollama = ChatOllama(model=\"llama3\")\n"
   ]
  },
  {
   "cell_type": "markdown",
   "metadata": {},
   "source": [
    "## Define Function to Get Responses\n",
    "\n",
    "We define a helper function `get_response` to send user inputs to the chat models and retrieve their responses. This function takes a chat model and user input as arguments and returns the model's response.\n"
   ]
  },
  {
   "cell_type": "code",
   "execution_count": 3,
   "metadata": {},
   "outputs": [],
   "source": [
    "def get_response(chat_model, user_input):\n",
    "    messages = [HumanMessage(content=user_input)]\n",
    "    response = chat_model.invoke(messages)\n",
    "    return response.content\n"
   ]
  },
  {
   "cell_type": "markdown",
   "metadata": {},
   "source": [
    "## Demonstrate Chat with Different Models\n",
    "\n",
    "We test the chat models with a sample input to compare their responses. This helps in understanding the differences in how each model processes and responds to the same query.\n"
   ]
  },
  {
   "cell_type": "code",
   "execution_count": 4,
   "metadata": {},
   "outputs": [
    {
     "data": {
      "text/markdown": [
       "**Input**: Give me a list of three of the best songs ever made."
      ],
      "text/plain": [
       "<IPython.core.display.Markdown object>"
      ]
     },
     "metadata": {},
     "output_type": "display_data"
    },
    {
     "data": {
      "text/markdown": [
       "**Bedrock Response**: What a daunting task! Selecting just three of the \"best\" songs ever made is a challenge, as opinions on music are subjective and varied. However, based on their impact, popularity, and critical acclaim, here are three songs that are widely regarded as some of the greatest of all time:\n",
       "\n",
       "1. **\"Hey Jude\" by The Beatles (1968)**: This uplifting ballad, written by Paul McCartney, has been a favorite among music fans for decades. Its iconic \"na-na-na\" refrain, powerful vocals, and timeless message of hope and comfort have made it a staple of popular music.\n",
       "2. **\"Bohemian Rhapsody\" by Queen (1975)**: This epic, operatic rock song is a masterpiece of composition and production. Written by Freddie Mercury, it's a six-minute journey of complex harmonies, intricate instrumentation, and dramatic vocal range. Its innovative style and enduring popularity have made it a classic.\n",
       "3. **\"Stairway to Heaven\" by Led Zeppelin (1971)**: This hauntingly beautiful rock ballad is widely considered one of the greatest songs ever written. Jimmy Page's soaring guitar work, Robert Plant's poetic lyrics, and the song's gradual build from gentle acoustic to thunderous climax have made it a beloved anthem for generations of music fans.\n",
       "\n",
       "Of course, there are countless other incredible songs out there, and opinions on the \"best\" songs will always vary. But these three are generally recognized as some of the most iconic, influential, and enduring songs in the history of popular music."
      ],
      "text/plain": [
       "<IPython.core.display.Markdown object>"
      ]
     },
     "metadata": {},
     "output_type": "display_data"
    },
    {
     "data": {
      "text/markdown": [
       "**OpenAI Response**: 1. \"Bohemian Rhapsody\" by Queen\n",
       "2. \"Like a Rolling Stone\" by Bob Dylan\n",
       "3. \"Stairway to Heaven\" by Led Zeppelin"
      ],
      "text/plain": [
       "<IPython.core.display.Markdown object>"
      ]
     },
     "metadata": {},
     "output_type": "display_data"
    },
    {
     "data": {
      "text/markdown": [
       "**Ollama Response**: The impossible task!\n",
       "\n",
       "While opinions on the \"best\" songs are always subjective, here are three iconic and widely acclaimed songs that many people consider to be among the greatest:\n",
       "\n",
       "1. **Bohemian Rhapsody** by Queen (1975) - This six-minute epic ballad is known for its operatic vocals, complex composition, and innovative production techniques. It's a fan favorite and one of the most popular rock songs of all time.\n",
       "2. **Hey Jude** by The Beatles (1968) - This uplifting ballad, written by Paul McCartney, features a catchy melody, memorable lyrics, and that iconic \"na-na-na\" refrain. Its enduring popularity has made it a staple of pop culture for generations.\n",
       "3. **Stairway to Heaven** by Led Zeppelin (1971) - This hauntingly beautiful rock ballad is widely considered one of the greatest songs ever written. Its soaring guitar solo, poetic lyrics, and mystical atmosphere have captivated listeners for decades, making it a classic that never grows old.\n",
       "\n",
       "Of course, there are countless other amazing songs out there, but these three are generally recognized as some of the best of all time."
      ],
      "text/plain": [
       "<IPython.core.display.Markdown object>"
      ]
     },
     "metadata": {},
     "output_type": "display_data"
    }
   ],
   "source": [
    "user_input = \"Give me a list of three of the best songs ever made.\"\n",
    "\n",
    "# Get responses from different models\n",
    "response_bedrock = get_response(chat_bedrock, user_input)\n",
    "response_openai = get_response(chat_openai, user_input)\n",
    "response_ollama = get_response(chat_ollama, user_input)\n",
    "\n",
    "# Display responses\n",
    "display(Markdown(f\"**Input**: {user_input}\"))\n",
    "display(Markdown(f\"**Bedrock Response**: {response_bedrock}\"))\n",
    "display(Markdown(f\"**OpenAI Response**: {response_openai}\"))\n",
    "display(Markdown(f\"**Ollama Response**: {response_ollama}\"))\n"
   ]
  },
  {
   "cell_type": "markdown",
   "metadata": {},
   "source": [
    "## Enhanced Conversational Memory\n",
    "\n",
    "We simulate a multi-turn conversation with the Bedrock model to demonstrate its ability to maintain context across multiple interactions.\n"
   ]
  },
  {
   "cell_type": "code",
   "execution_count": 8,
   "metadata": {},
   "outputs": [
    {
     "data": {
      "text/markdown": [
       "**User**: Hi there!"
      ],
      "text/plain": [
       "<IPython.core.display.Markdown object>"
      ]
     },
     "metadata": {},
     "output_type": "display_data"
    },
    {
     "data": {
      "text/markdown": [
       "**AI**: Hello! I'm Dross, your trusted AI assistant at Endeavour. It's great to meet you! How can I assist you today? Do you have a specific task or project you'd like to discuss, or perhaps you'd like me to provide some information on our services?\n"
      ],
      "text/plain": [
       "<IPython.core.display.Markdown object>"
      ]
     },
     "metadata": {},
     "output_type": "display_data"
    },
    {
     "data": {
      "text/markdown": [
       "**User**: What's your name?"
      ],
      "text/plain": [
       "<IPython.core.display.Markdown object>"
      ]
     },
     "metadata": {},
     "output_type": "display_data"
    },
    {
     "data": {
      "text/markdown": [
       "**AI**: Hello again! My name is Dross, nice and simple. I'm your dedicated AI assistant here at Endeavour, ready to help with any questions or tasks you may have.\n"
      ],
      "text/plain": [
       "<IPython.core.display.Markdown object>"
      ]
     },
     "metadata": {},
     "output_type": "display_data"
    },
    {
     "data": {
      "text/markdown": [
       "**User**: My name is Mohammed and I work at Endeavour."
      ],
      "text/plain": [
       "<IPython.core.display.Markdown object>"
      ]
     },
     "metadata": {},
     "output_type": "display_data"
    },
    {
     "data": {
      "text/markdown": [
       "**AI**: Nice to meet you, Mohammed! As your colleague at Endeavour, I'm happy to help you with anything you need. Is there a specific project or task you're working on that I can assist you with, or would you like to discuss some of the services we offer here at Endeavour?\n"
      ],
      "text/plain": [
       "<IPython.core.display.Markdown object>"
      ]
     },
     "metadata": {},
     "output_type": "display_data"
    },
    {
     "data": {
      "text/markdown": [
       "**User**: Can you remind me what I said earlier?"
      ],
      "text/plain": [
       "<IPython.core.display.Markdown object>"
      ]
     },
     "metadata": {},
     "output_type": "display_data"
    },
    {
     "data": {
      "text/markdown": [
       "**AI**: You said: \"My name is Mohammed and I work at Endeavour.\"\n"
      ],
      "text/plain": [
       "<IPython.core.display.Markdown object>"
      ]
     },
     "metadata": {},
     "output_type": "display_data"
    },
    {
     "data": {
      "text/markdown": [
       "**User**: Can you tell me a joke?"
      ],
      "text/plain": [
       "<IPython.core.display.Markdown object>"
      ]
     },
     "metadata": {},
     "output_type": "display_data"
    },
    {
     "data": {
      "text/markdown": [
       "**AI**: Here's one: Why did the AI assistant go to therapy? Because it had a little \"glitch\"! I hope that brought a smile to your face, Mohammed!\n"
      ],
      "text/plain": [
       "<IPython.core.display.Markdown object>"
      ]
     },
     "metadata": {},
     "output_type": "display_data"
    },
    {
     "data": {
      "text/markdown": [
       "**User**: Thank you!"
      ],
      "text/plain": [
       "<IPython.core.display.Markdown object>"
      ]
     },
     "metadata": {},
     "output_type": "display_data"
    },
    {
     "data": {
      "text/markdown": [
       "**AI**: You're welcome, Mohammed! It was my pleasure to share a joke with you. If you're ever in need of assistance or just want to chat, I'm here for you. Have a great day at Endeavour!\n"
      ],
      "text/plain": [
       "<IPython.core.display.Markdown object>"
      ]
     },
     "metadata": {},
     "output_type": "display_data"
    },
    {
     "data": {
      "text/markdown": [
       "**User**: Can you provide a summary of today's conversation?"
      ],
      "text/plain": [
       "<IPython.core.display.Markdown object>"
      ]
     },
     "metadata": {},
     "output_type": "display_data"
    },
    {
     "data": {
      "text/markdown": [
       "**AI**: Here's a summary of our conversation today, Mohammed:\n",
       "\n",
       "We started with introductions, and I welcomed you as my colleague at Endeavour. You asked about my name, and I told you it's Dross, your dedicated AI assistant. You then shared your name, Mohammed, and mentioned you work at Endeavour.\n",
       "\n",
       "I offered to assist you with any tasks or projects you're working on, but you didn't have anything specific in mind. You then asked me to remind you what you said earlier, and I recalled your introduction.\n",
       "\n",
       "After that, you asked me to share a joke, and I told you one about an AI assistant going to therapy because it had a little \"glitch\"! You thanked me, and I wished you a great day at Endeavour.\n",
       "\n",
       "That's a wrap, Mohammed! If you need anything else or just want to chat, I'm always here to help.\n"
      ],
      "text/plain": [
       "<IPython.core.display.Markdown object>"
      ]
     },
     "metadata": {},
     "output_type": "display_data"
    }
   ],
   "source": [
    "# Define chat history for Bedrock\n",
    "bedrock_chat_history = [{\"type\": \"system\", \"content\": \"You are an AI assistant named Dross working for Endeavour.\"}]\n",
    "\n",
    "prompts = [\n",
    "    \"Hi there!\",\n",
    "    \"What's your name?\",\n",
    "    \"My name is Mohammed and I work at Endeavour.\",\n",
    "    \"Can you remind me what I said earlier?\",\n",
    "    \"Can you tell me a joke?\",\n",
    "    \"Thank you!\"\n",
    "]\n",
    "\n",
    "for prompt in prompts:\n",
    "    bedrock_chat_history.append({\"type\": \"user\", \"content\": prompt})\n",
    "    result = get_response(chat_bedrock, bedrock_chat_history)\n",
    "    display(Markdown(f\"**User**: {prompt}\"))\n",
    "    display(Markdown(f\"**AI**: {result}\\n\"))\n",
    "    bedrock_chat_history.append({\"type\": \"system\", \"content\": result})\n",
    "\n",
    "# Additional prompt to summarize the conversation\n",
    "additional_prompt = \"Can you provide a summary of today's conversation?\"\n",
    "bedrock_chat_history.append({\"type\": \"user\", \"content\": additional_prompt})\n",
    "summary_result = get_response(chat_bedrock, bedrock_chat_history)\n",
    "display(Markdown(f\"**User**: {additional_prompt}\"))\n",
    "display(Markdown(f\"**AI**: {summary_result}\\n\"))"
   ]
  },
  {
   "cell_type": "markdown",
   "metadata": {},
   "source": [
    "## Task-Specific Prompts\n",
    "\n",
    "We demonstrate how to use the AI models for various specific tasks such as summarization, translation, and coding assistance.\n"
   ]
  },
  {
   "cell_type": "code",
   "execution_count": 6,
   "metadata": {},
   "outputs": [
    {
     "data": {
      "text/markdown": [
       "**Summarization Input**: \n",
       "Natural language processing (NLP) is a subfield of artificial intelligence (AI) that focuses on the interaction between computers and humans through natural language. \n",
       "The goal of NLP is to enable computers to understand, interpret, and generate human language in a valuable way. \n",
       "NLP tasks include language translation, sentiment analysis, speech recognition, and more. \n",
       "Recent advancements in deep learning have significantly improved the performance of NLP models, enabling them to handle complex language tasks with high accuracy.\n"
      ],
      "text/plain": [
       "<IPython.core.display.Markdown object>"
      ]
     },
     "metadata": {},
     "output_type": "display_data"
    },
    {
     "data": {
      "text/markdown": [
       "**Summarization Output**: Natural language processing is a subfield of artificial intelligence that aims to enable computers to understand, interpret, and generate human language. NLP tasks include language translation, sentiment analysis, and speech recognition. Recent advancements in deep learning have improved the performance of NLP models, allowing them to handle complex language tasks accurately."
      ],
      "text/plain": [
       "<IPython.core.display.Markdown object>"
      ]
     },
     "metadata": {},
     "output_type": "display_data"
    },
    {
     "data": {
      "text/markdown": [
       "**Translation Input**: This algorithm is designed to analyze large datasets efficiently."
      ],
      "text/plain": [
       "<IPython.core.display.Markdown object>"
      ]
     },
     "metadata": {},
     "output_type": "display_data"
    },
    {
     "data": {
      "text/markdown": [
       "**Translation Output**: Cet algorithme est conçu pour analyser efficacement de grands ensembles de données."
      ],
      "text/plain": [
       "<IPython.core.display.Markdown object>"
      ]
     },
     "metadata": {},
     "output_type": "display_data"
    },
    {
     "data": {
      "text/markdown": [
       "**Coding Input**: Write a Python function that calculates the cosine similarity between two vectors."
      ],
      "text/plain": [
       "<IPython.core.display.Markdown object>"
      ]
     },
     "metadata": {},
     "output_type": "display_data"
    },
    {
     "data": {
      "text/markdown": [
       "**Coding Output**: Sure! Here is a Python function that calculates the cosine similarity between two vectors:\n",
       "\n",
       "```python\n",
       "import math\n",
       "\n",
       "def cosine_similarity(vector1, vector2):\n",
       "    dot_product = sum([x*y for x, y in zip(vector1, vector2)])\n",
       "    norm1 = math.sqrt(sum([x**2 for x in vector1]))\n",
       "    norm2 = math.sqrt(sum([y**2 for y in vector2]))\n",
       "    \n",
       "    if norm1 == 0 or norm2 == 0:\n",
       "        return 0\n",
       "    \n",
       "    return dot_product / (norm1 * norm2)\n",
       "\n",
       "# Example usage\n",
       "vector1 = [1, 2, 3]\n",
       "vector2 = [4, 5, 6]\n",
       "print(cosine_similarity(vector1, vector2))\n",
       "```\n",
       "\n",
       "You can call this function with two vectors as arguments and it will return the cosine similarity between them. The cosine similarity ranges from -1 to 1, with 1 indicating that the vectors are exactly the same, 0 indicating that the vectors are orthogonal, and -1 indicating that the vectors are opposite."
      ],
      "text/plain": [
       "<IPython.core.display.Markdown object>"
      ]
     },
     "metadata": {},
     "output_type": "display_data"
    }
   ],
   "source": [
    "# Longer text for summarization\n",
    "summarization_input = \"\"\"\n",
    "Natural language processing (NLP) is a subfield of artificial intelligence (AI) that focuses on the interaction between computers and humans through natural language. \n",
    "The goal of NLP is to enable computers to understand, interpret, and generate human language in a valuable way. \n",
    "NLP tasks include language translation, sentiment analysis, speech recognition, and more. \n",
    "Recent advancements in deep learning have significantly improved the performance of NLP models, enabling them to handle complex language tasks with high accuracy.\n",
    "\"\"\"\n",
    "\n",
    "# Get the response for summarization\n",
    "response_summarization = get_response(chat_openai, f\"Summarize the following text: {summarization_input}\")\n",
    "display(Markdown(f\"**Summarization Input**: {summarization_input}\"))\n",
    "display(Markdown(f\"**Summarization Output**: {response_summarization}\"))\n",
    "\n",
    "# Longer sentence for translation\n",
    "translation_input = \"This algorithm is designed to analyze large datasets efficiently.\"\n",
    "\n",
    "# Specify translation language pair (English to French)\n",
    "response_translation = get_response(chat_openai, f\"Translate the following text to French: {translation_input}\")\n",
    "display(Markdown(f\"**Translation Input**: {translation_input}\"))\n",
    "display(Markdown(f\"**Translation Output**: {response_translation}\"))\n",
    "\n",
    "# More complex coding task\n",
    "coding_input = \"Write a Python function that calculates the cosine similarity between two vectors.\"\n",
    "\n",
    "response_coding = get_response(chat_openai, f\"Help me with the following coding task: {coding_input}\")\n",
    "display(Markdown(f\"**Coding Input**: {coding_input}\"))\n",
    "display(Markdown(f\"**Coding Output**: {response_coding}\"))\n"
   ]
  },
  {
   "cell_type": "markdown",
   "metadata": {},
   "source": [
    "## Conclusion\n",
    "\n",
    "In this notebook, we demonstrated the advanced capabilities of Langchain models for various tasks including conversational memory, task-specific prompts, interactive user inputs, and integration with external APIs. These examples showcase the versatility and power of Langchain models for various conversational AI applications.\n"
   ]
  }
 ],
 "metadata": {
  "kernelspec": {
   "display_name": ".env",
   "language": "python",
   "name": "python3"
  },
  "language_info": {
   "codemirror_mode": {
    "name": "ipython",
    "version": 3
   },
   "file_extension": ".py",
   "mimetype": "text/x-python",
   "name": "python",
   "nbconvert_exporter": "python",
   "pygments_lexer": "ipython3",
   "version": "3.11.8"
  },
  "orig_nbformat": 4
 },
 "nbformat": 4,
 "nbformat_minor": 2
}
